{
  "nbformat": 4,
  "nbformat_minor": 0,
  "metadata": {
    "colab": {
      "provenance": []
    },
    "kernelspec": {
      "name": "python3",
      "display_name": "Python 3"
    },
    "language_info": {
      "name": "python"
    }
  },
  "cells": [
    {
      "cell_type": "markdown",
      "source": [
        "Q1. List out the features of HTML6"
      ],
      "metadata": {
        "id": "L6O5heQn__Nz"
      }
    },
    {
      "cell_type": "markdown",
      "source": [
        "answer:- 1.One of the most important feature of HTML5 is new semantic elements such as header, footer, article, section, nav, and main. These tags give web pages a more meaningful structure, making content easier for browsers, search engines, and assistive technologies to understand.\n",
        "\n",
        "2.HTML5 is its native multimedia support.\n",
        "\n",
        "3.HTML5 introduced the video and audio elements, which allow media playback directly in the browser with simple markup. This made multimedia content faster, more secure, and mobile-friendly.\n",
        "\n",
        "4.HTML5 also enhanced web graphics and visual effects.\n",
        "\n",
        "5.HTML5 introduced new input types such as email, date, url, number, range, and color. These provide built-in validation and improve the user experience without the need for extra JavaScript."
      ],
      "metadata": {
        "id": "8GEBGWypJPWA"
      }
    },
    {
      "cell_type": "markdown",
      "source": [
        "Q2. What are HTML Entities? List out 5 commonly used HTML entities."
      ],
      "metadata": {
        "id": "93hVeoicAEvw"
      }
    },
    {
      "cell_type": "markdown",
      "source": [
        "answer: HTML, entities are special codes used to display characters that have a reserved meaning in HTML or characters that are not easily typed using a keyboard.\n",
        "HTML entities always start with an ampersand (&) and end with a semicolon (;).\n",
        "5 Commonly Used HTML Entities\n",
        "\n",
        "i.Less than (<) → &lt;\n",
        "Example: &lt; → <\n",
        "\n",
        "ii.Greater than (>) → &gt;\n",
        "Example: &gt; → >\n",
        "\n",
        "iii.Ampersand (&) → &amp;\n",
        "Example: &amp; → &\n",
        "\n",
        "iv.Double Quote (\") → &quot;\n",
        "Example: &quot; → \"\n",
        "\n",
        "v.Non-Breaking Space → &nbsp;\n",
        "Example: Hello&nbsp;World → Hello World (extra space preserved)"
      ],
      "metadata": {
        "id": "t7SAYw0vOYgi"
      }
    },
    {
      "cell_type": "markdown",
      "source": [
        "Q3. Define accessibility in the context of web development. Discuss why it's essential to create accessible\n",
        "websites and how it benefits different user group\".\n",
        "\n"
      ],
      "metadata": {
        "id": "0DwZxCEoAOL8"
      }
    },
    {
      "cell_type": "markdown",
      "source": [
        "answer: Accessibility in web development refers to designing and building websites in a way that ensures all users, including people with disabilities, can perceive, understand, navigate, and interact with the web content effectively.\n",
        "\n",
        "Benefits of Accessibility for Different User Groups\n",
        "\n",
        "1.People with Visual Impairments\n",
        "\n",
        "i.Screen readers can read aloud properly structured HTML (using headings, alt text, ARIA roles).\n",
        "\n",
        "ii.High-contrast modes and scalable fonts improve readability.\n",
        "\n",
        "2.People with Hearing Impairments\n",
        "\n",
        "i.Subtitles and captions on videos make multimedia content understandable.\n",
        "\n",
        "ii.Transcripts ensure access to audio-only content.\n",
        "\n",
        "3.People with Motor Disabilities\n",
        "\n",
        "i.Keyboard navigation (instead of only mouse interaction) helps users who cannot use a mouse.\n",
        "\n",
        "ii.Larger clickable areas and voice commands improve usability.\n",
        "\n",
        "4.People with Cognitive or Learning Disabilities\n",
        "\n",
        "i.Clear content structure, plain language, and consistent navigation reduce confusion.\n",
        "\n",
        "ii.Avoiding flashing content helps those with epilepsy or attention disorders.\n",
        "\n",
        "5.General Users (No Disabilities)\n",
        "\n",
        "i.Accessibility often improves usability for everyone.\n",
        "\n",
        "ii.Example: Captions help users in noisy environments, keyboard shortcuts improve efficiency, and proper color contrast improves readability on mobile screens in sunlight."
      ],
      "metadata": {
        "id": "JSlTxjycRBDf"
      }
    },
    {
      "cell_type": "markdown",
      "source": [
        "Q4. List any 3 ways which help us in improving the accessibility of HTML."
      ],
      "metadata": {
        "id": "KxhdjWPkAOls"
      }
    },
    {
      "cell_type": "markdown",
      "source": [
        "answer: 1. Use Semantic HTML Tags Properly-\n",
        "\n",
        "Using elements like header, nav, main, article, section, and footer gives structure and meaning to the page. Screen readers and assistive technologies can then interpret the content more easily, helping visually impaired users navigate the website.\n",
        "\n",
        "2. Provide Text Alternatives for Non-Text Content\n",
        "\n",
        "Always use the alt attribute for images.This ensures that users with screen readers or those who cannot view images still understand the purpose of the image. Similarly, provide captions for videos and transcripts for audio.\n",
        "\n",
        "3. Ensure Keyboard Accessibility\n",
        "\n",
        "All interactive elements (links, buttons, forms) should be accessible via keyboard (using Tab, Enter, or Space keys). For example:\n",
        "\n",
        "-Avoid JavaScript events that only work with a mouse (like onclick without onkeypress).\n",
        "\n",
        "-Use tabindex wisely to control focus order."
      ],
      "metadata": {
        "id": "9qKbUip7T8vz"
      }
    },
    {
      "cell_type": "markdown",
      "source": [
        "Q5. Create a web page that highlights the features of HTML5. Use appropriate semantic tags to structure the\n",
        "content and showcase at least three key features of HTML5 with explanations."
      ],
      "metadata": {
        "id": "eV8uGAlLAO7j"
      }
    },
    {
      "cell_type": "code",
      "source": [
        "<!DOCTYPE html>\n",
        "<html lang=\"en\">\n",
        "<head>\n",
        "  <meta charset=\"UTF-8\">\n",
        "  <meta name=\"viewport\" content=\"width=device-width, initial-scale=1.0\">\n",
        "  <title>Features of HTML5</title>\n",
        "  <style>\n",
        "    body {\n",
        "      font-family: Arial, sans-serif;\n",
        "      margin: 0;\n",
        "      padding: 0;\n",
        "      line-height: 1.6;\n",
        "      background-color: #f9f9f9;\n",
        "      color: #333;\n",
        "    }\n",
        "    header {\n",
        "      background: #0077cc;\n",
        "      color: white;\n",
        "      text-align: center;\n",
        "      padding: 20px;\n",
        "    }\n",
        "    nav {\n",
        "      background: #005fa3;\n",
        "      padding: 10px;\n",
        "    }\n",
        "    nav a {\n",
        "      color: white;\n",
        "      text-decoration: none;\n",
        "      margin: 0 15px;\n",
        "      font-weight: bold;\n",
        "    }\n",
        "    section {\n",
        "      padding: 20px;\n",
        "    }\n",
        "    article {\n",
        "      background: white;\n",
        "      margin-bottom: 20px;\n",
        "      padding: 15px;\n",
        "      border-radius: 8px;\n",
        "      box-shadow: 0 2px 4px rgba(0,0,0,0.1);\n",
        "    }\n",
        "    footer {\n",
        "      background: #0077cc;\n",
        "      color: white;\n",
        "      text-align: center;\n",
        "      padding: 10px;\n",
        "      margin-top: 20px;\n",
        "    }\n",
        "  </style>\n",
        "</head>\n",
        "<body>\n",
        "\n",
        "  <header>\n",
        "    <h1>Exploring the Features of HTML5</h1>\n",
        "    <p>Modern, Powerful, and Accessible Web Technology</p>\n",
        "  </header>\n",
        "\n",
        "  <nav>\n",
        "    <a href=\"#semantics\">Semantic Elements</a>\n",
        "    <a href=\"#multimedia\">Multimedia Support</a>\n",
        "    <a href=\"#storage\">Web Storage</a>\n",
        "  </nav>\n",
        "\n",
        "  <section>\n",
        "\n",
        "    <article id=\"semantics\">\n",
        "      <h2>1. Semantic Elements</h2>\n",
        "      <p>HTML5 introduces semantic tags like <code>&lt;header&gt;</code>,\n",
        "      <code>&lt;section&gt;</code>, <code>&lt;article&gt;</code>, and\n",
        "      <code>&lt;footer&gt;</code>. These provide meaning to the content,\n",
        "      making it easier for search engines and assistive technologies to understand\n",
        "      the structure of a web page.</p>\n",
        "    </article>\n",
        "\n",
        "    <article id=\"multimedia\">\n",
        "      <h2>2. Multimedia Support</h2>\n",
        "      <p>HTML5 allows embedding audio and video directly using\n",
        "      <code>&lt;audio&gt;</code> and <code>&lt;video&gt;</code> tags without\n",
        "      relying on third-party plugins like Flash.</p>\n",
        "      <video width=\"300\" controls>\n",
        "        <source src=\"sample-video.mp4\" type=\"video/mp4\">\n",
        "        Your browser does not support the video tag.\n",
        "      </video>\n",
        "    </article>\n",
        "\n",
        "    <article id=\"storage\">\n",
        "      <h2>3. Web Storage</h2>\n",
        "      <p>HTML5 introduces <strong>localStorage</strong> and\n",
        "      <strong>sessionStorage</strong> APIs, allowing web applications to\n",
        "      store data on the client side more securely and with larger capacity\n",
        "      compared to cookies.</p>\n",
        "      <p><em>Example:</em> A website can remember your preferences even\n",
        "      after closing the browser using <code>localStorage</code>.</p>\n",
        "    </article>\n",
        "\n",
        "  </section>\n",
        "</body>\n",
        "</html>\n"
      ],
      "metadata": {
        "id": "I-ZrNbUqVVGx"
      },
      "execution_count": null,
      "outputs": []
    },
    {
      "cell_type": "markdown",
      "source": [
        "Q6. Create a simple web page which has a table. The table must have 2 columns HTML and HTML5. The table\n",
        "should include a minimum of three rows describing the differences between HTML and HTML5."
      ],
      "metadata": {
        "id": "hAR441JYAtpr"
      }
    },
    {
      "cell_type": "code",
      "source": [
        "<!DOCTYPE html>\n",
        "<html lang=\"en\">\n",
        "<head>\n",
        "  <meta charset=\"UTF-8\">\n",
        "  <meta name=\"viewport\" content=\"width=device-width, initial-scale=1.0\">\n",
        "  <title>HTML vs HTML5</title>\n",
        "</head>\n",
        "<body>\n",
        "\n",
        "  <h1>Comparison: HTML vs HTML5</h1>\n",
        "\n",
        "  <table>\n",
        "    <tr>\n",
        "      <th>HTML</th>\n",
        "      <th>HTML5</th>\n",
        "    </tr>\n",
        "    <tr>\n",
        "      <td>Relies on third-party plugins like Flash for audio and video.</td>\n",
        "      <td>Provides built-in support for <code>&lt;audio&gt;</code> and <code>&lt;video&gt;</code> elements.</td>\n",
        "    </tr>\n",
        "    <tr>\n",
        "      <td>Does not support semantic elements for structuring content.</td>\n",
        "      <td>Introduces semantic tags like <code>&lt;header&gt;</code>, <code>&lt;footer&gt;</code>, and <code>&lt;article&gt;</code>.</td>\n",
        "    </tr>\n",
        "    <tr>\n",
        "      <td>Data storage is mainly through cookies.</td>\n",
        "      <td>Provides Web Storage APIs (<code>localStorage</code> and <code>sessionStorage</code>) for client-side storage.</td>\n",
        "    </tr>\n",
        "  </table>\n",
        "\n",
        "</body>\n",
        "</html>\n"
      ],
      "metadata": {
        "id": "2vWQfm5wWKF7"
      },
      "execution_count": null,
      "outputs": []
    }
  ]
}